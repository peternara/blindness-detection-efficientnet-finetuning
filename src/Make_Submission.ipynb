{
 "cells": [
  {
   "cell_type": "code",
   "execution_count": 13,
   "metadata": {},
   "outputs": [],
   "source": [
    "from tensorflow import keras\n",
    "import numpy as np\n",
    "import pandas as pd\n",
    "from PIL import Image\n",
    "from tqdm import tqdm"
   ]
  },
  {
   "cell_type": "code",
   "execution_count": 14,
   "metadata": {},
   "outputs": [],
   "source": [
    "im_shape = (128, 128, 3)\n",
    "\n",
    "def load_image(path, dim=None):\n",
    "    im = Image.open(path)\n",
    "    if dim is not None:\n",
    "        im = im.resize(dim,resample=Image.LANCZOS)\n",
    "    return np.array(im)"
   ]
  },
  {
   "cell_type": "code",
   "execution_count": 16,
   "metadata": {},
   "outputs": [
    {
     "name": "stderr",
     "output_type": "stream",
     "text": [
      "1928it [01:04, 30.01it/s]\n"
     ]
    }
   ],
   "source": [
    "# test\n",
    "test_data = pd.read_csv(\"../data/test.csv\")\n",
    "\n",
    "images = np.empty(shape=(len(test_data.index), im_shape[0], im_shape[1], 3))\n",
    "for i, row in tqdm(test_data.iterrows()):\n",
    "    im = load_image(\"../data/test_images/\" + str(row.id_code) + \".png\", (im_shape[0], im_shape[1]))\n",
    "    images[i] = im\n",
    "        \n",
    "test_images = images"
   ]
  },
  {
   "cell_type": "code",
   "execution_count": 19,
   "metadata": {},
   "outputs": [],
   "source": [
    "# Recreate the exact same model, including weights and optimizer.\n",
    "model = keras.models.load_model('basic.h5')"
   ]
  },
  {
   "cell_type": "code",
   "execution_count": 30,
   "metadata": {},
   "outputs": [],
   "source": [
    "predictions = model.predict(test_images)\n",
    "# create submission\n",
    "test_data.reset_index()\n",
    "with open(\"submissions.csv\", \"w\") as f:\n",
    "    f.write(\"id_code,diagnosis\\n\")\n",
    "    for i in range(len(predictions)):\n",
    "        f.write(test_data.id_code[i] + \",\" + str(np.argmax(predictions[i])) + \"\\n\")"
   ]
  },
  {
   "cell_type": "code",
   "execution_count": 31,
   "metadata": {},
   "outputs": [],
   "source": [
    "a = pd.read_csv(\"submissions.csv\")"
   ]
  },
  {
   "cell_type": "code",
   "execution_count": 32,
   "metadata": {},
   "outputs": [
    {
     "data": {
      "text/plain": [
       "2    1652\n",
       "0     239\n",
       "1      28\n",
       "4       9\n",
       "Name: diagnosis, dtype: int64"
      ]
     },
     "execution_count": 32,
     "metadata": {},
     "output_type": "execute_result"
    }
   ],
   "source": [
    "a.diagnosis.value_counts()"
   ]
  },
  {
   "cell_type": "code",
   "execution_count": null,
   "metadata": {},
   "outputs": [],
   "source": []
  }
 ],
 "metadata": {
  "kernelspec": {
   "display_name": ".venv",
   "language": "python",
   "name": ".venv"
  },
  "language_info": {
   "codemirror_mode": {
    "name": "ipython",
    "version": 3
   },
   "file_extension": ".py",
   "mimetype": "text/x-python",
   "name": "python",
   "nbconvert_exporter": "python",
   "pygments_lexer": "ipython3",
   "version": "3.7.3"
  }
 },
 "nbformat": 4,
 "nbformat_minor": 2
}
