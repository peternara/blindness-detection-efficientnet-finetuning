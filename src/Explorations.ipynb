{
 "cells": [
  {
   "cell_type": "code",
   "execution_count": 35,
   "metadata": {},
   "outputs": [],
   "source": [
    "import os\n",
    "import pandas as pd\n",
    "import numpy as np\n",
    "import matplotlib.pyplot as plt\n",
    "from PIL import Image\n",
    "import tensorflow as tf\n",
    "from tensorflow import keras\n",
    "from tqdm import tqdm"
   ]
  },
  {
   "cell_type": "code",
   "execution_count": 30,
   "metadata": {},
   "outputs": [
    {
     "name": "stdout",
     "output_type": "stream",
     "text": [
      "Using preprocessed images\n"
     ]
    }
   ],
   "source": [
    "# Dataset location\n",
    "train_csv = \"/home/resl/Dev/Datasets/APTOS-2019-Blindness-Detection-Dataset/train.csv\"\n",
    "test_csv = \"/home/resl/Dev/Datasets/APTOS-2019-Blindness-Detection-Dataset/test.csv\"\n",
    "train_dir = \"/home/resl/Dev/Datasets/APTOS-2019-Blindness-Detection-Dataset/train_images/\"\n",
    "test_dir = \"/home/resl/Dev/Datasets/APTOS-2019-Blindness-Detection-Dataset/test_images/\"\n",
    "prep_train_dir = \"/home/resl/Dev/Datasets/APTOS-2019-Blindness-Detection-Dataset/train_prep_images/\"\n",
    "prep_test_dir = \"/home/resl/Dev/Datasets/APTOS-2019-Blindness-Detection-Dataset/test_prep_images/\"\n",
    "\n",
    "use_preprocessed = True\n",
    "dump_preprocessed = True\n",
    "\n",
    "if use_preprocessed and os.path.isdir(prep_train_dir) and os.path.isdir(prep_test_dir):\n",
    "    print(\"Using preprocessed images\")\n",
    "    train_dir = prep_train_dir\n",
    "    test_dir = prep_test_dir\n",
    "    dump_preprocessed = False\n",
    "else:\n",
    "    if not os.path.isdir(prep_train_dir):\n",
    "        os.mkdir(prep_train_dir)\n",
    "    if not os.path.isdir(prep_test_dir):\n",
    "        os.mkdir(prep_test_dir)"
   ]
  },
  {
   "cell_type": "code",
   "execution_count": 31,
   "metadata": {},
   "outputs": [
    {
     "name": "stdout",
     "output_type": "stream",
     "text": [
      "Training Size:  3662\n",
      "Testing Size:  1928\n"
     ]
    },
    {
     "data": {
      "image/png": "[encoded data removed]",
      "text/plain": [
       "<Figure size 432x288 with 1 Axes>"
      ]
     },
     "metadata": {
      "needs_background": "light"
     },
     "output_type": "display_data"
    }
   ],
   "source": [
    "# Dataset Analysis\n",
    "\n",
    "train_data = pd.read_csv(train_csv)\n",
    "test_data = pd.read_csv(test_csv)\n",
    "class_labels = [\"No DR\", \"Mild\", \"Moderate\", \"Severe\", \"Proliferative DR\"]\n",
    "\n",
    "print(\"Training Size: \", len(train_data))\n",
    "print(\"Testing Size: \", len(test_data))\n",
    "\n",
    "plt.suptitle(\"Class Distribution\")\n",
    "plt.bar(range(5), train_data.diagnosis.value_counts())\n",
    "plt.xticks(range(5), class_labels, rotation=50)\n",
    "plt.ylabel(\"Samples\")\n",
    "plt.show()"
   ]
  },
  {
   "cell_type": "code",
   "execution_count": 38,
   "metadata": {
    "scrolled": true
   },
   "outputs": [
    {
     "name": "stdout",
     "output_type": "stream",
     "text": [
      "Using matplotlib backend: Qt5Agg\n"
     ]
    }
   ],
   "source": [
    "# Some Visualizations\n",
    "%matplotlib\n",
    "im_shape = (128, 128, 3)\n",
    "\n",
    "def load_image(path, dim=None):\n",
    "    im = Image.open(path)\n",
    "    if dim is not None:\n",
    "        im = im.resize(dim,resample=Image.LANCZOS)\n",
    "    return im\n",
    "\n",
    "num_classes = len(class_labels)\n",
    "num_samples = 5\n",
    "figure = plt.figure()\n",
    "\n",
    "for i, label in enumerate(class_labels):\n",
    "    samples = train_data.loc[train_data.diagnosis==i, 'id_code'].sample(num_samples,).reset_index(drop=True)\n",
    "    for j in range(num_samples):\n",
    "        im = load_image(train_dir + str(samples[j]) + \".png\", (im_shape[0], im_shape[1]))\n",
    "        fig_ax = figure.add_subplot(num_classes, num_classes, i+5*j+1)\n",
    "        fig_ax.set_xticks([], [])\n",
    "        fig_ax.set_yticks([], [])\n",
    "        if j==0:\n",
    "            fig_ax.set_title(class_labels[i])\n",
    "        fig_ax.imshow(im)\n",
    "        \n",
    "plt.show()"
   ]
  },
  {
   "cell_type": "code",
   "execution_count": 56,
   "metadata": {
    "scrolled": true
   },
   "outputs": [
    {
     "name": "stderr",
     "output_type": "stream",
     "text": [
      "3662it [00:02, 1412.44it/s]"
     ]
    },
    {
     "name": "stdout",
     "output_type": "stream",
     "text": [
      "(2930, 128, 128, 3) (2930,)\n",
      "(732, 128, 128, 3) (732,)\n"
     ]
    },
    {
     "name": "stderr",
     "output_type": "stream",
     "text": [
      "\n"
     ]
    }
   ],
   "source": [
    "images = np.empty(shape=(len(train_data.index), im_shape[0], im_shape[1], 3))\n",
    "labels = np.empty(shape=(len(train_data.index),))\n",
    "for i, row in tqdm(train_data.iterrows()):\n",
    "    im = load_image(train_dir + str(row.id_code) + \".png\", (im_shape[0], im_shape[1]))\n",
    "    images[i] = np.array(im)\n",
    "    labels[i] = row.diagnosis\n",
    "    if dump_preprocessed:\n",
    "        im.save(prep_train_dir + str(row.id_code) + \".png\")\n",
    "\n",
    "validation_images = images[:int(len(images)*0.2)]\n",
    "validation_labels = labels[:int(len(images)*0.2)]\n",
    "train_images = images[int(len(images)*0.2):]\n",
    "train_labels = labels[int(len(images)*0.2):]\n",
    "del(images)\n",
    "\n",
    "print(train_images.shape, train_labels.shape)\n",
    "print(validation_images.shape, validation_labels.shape)\n",
    "\n",
    "# Time (original+saving preprocessed) : 6 min\n",
    "# Time (preprocessed): 2 s (Awesome!!)"
   ]
  },
  {
   "cell_type": "code",
   "execution_count": 57,
   "metadata": {},
   "outputs": [],
   "source": [
    "model = keras.Sequential([\n",
    "    keras.layers.Flatten(input_shape=im_shape),\n",
    "    keras.layers.Dense(128, activation=tf.nn.relu),\n",
    "    keras.layers.Dense(10, activation=tf.nn.softmax)\n",
    "])\n",
    "\n",
    "model.compile(\n",
    "    optimizer=\"adam\",\n",
    "    loss=\"sparse_categorical_crossentropy\",\n",
    "    metrics=[\"accuracy\"]\n",
    ")"
   ]
  },
  {
   "cell_type": "code",
   "execution_count": 58,
   "metadata": {
    "scrolled": true
   },
   "outputs": [
    {
     "name": "stdout",
     "output_type": "stream",
     "text": [
      "Epoch 1/20\n",
      "2930/2930 [==============================] - 2s 606us/sample - loss: 812.5951 - acc: 0.5904\n",
      "Epoch 2/20\n",
      "2930/2930 [==============================] - 2s 536us/sample - loss: 356.2006 - acc: 0.6273\n",
      "Epoch 3/20\n",
      "2930/2930 [==============================] - 2s 535us/sample - loss: 309.7778 - acc: 0.6307\n",
      "Epoch 4/20\n",
      "2930/2930 [==============================] - 2s 540us/sample - loss: 478.7250 - acc: 0.6140\n",
      "Epoch 5/20\n",
      "2930/2930 [==============================] - 2s 534us/sample - loss: 234.3044 - acc: 0.6642\n",
      "Epoch 6/20\n",
      "2930/2930 [==============================] - 2s 545us/sample - loss: 211.1136 - acc: 0.6529\n",
      "Epoch 7/20\n",
      "2930/2930 [==============================] - 2s 545us/sample - loss: 174.5321 - acc: 0.6570\n",
      "Epoch 8/20\n",
      "2930/2930 [==============================] - 2s 544us/sample - loss: 129.4324 - acc: 0.6655\n",
      "Epoch 9/20\n",
      "2930/2930 [==============================] - 2s 541us/sample - loss: 114.0969 - acc: 0.6765\n",
      "Epoch 10/20\n",
      "2930/2930 [==============================] - 2s 551us/sample - loss: 140.0065 - acc: 0.6543\n",
      "Epoch 11/20\n",
      "2930/2930 [==============================] - 2s 540us/sample - loss: 95.4828 - acc: 0.6468\n",
      "Epoch 12/20\n",
      "2930/2930 [==============================] - 2s 550us/sample - loss: 70.5433 - acc: 0.6468\n",
      "Epoch 13/20\n",
      "2930/2930 [==============================] - 2s 551us/sample - loss: 59.9461 - acc: 0.6147\n",
      "Epoch 14/20\n",
      "2930/2930 [==============================] - 2s 546us/sample - loss: 50.0018 - acc: 0.6440\n",
      "Epoch 15/20\n",
      "2930/2930 [==============================] - 2s 549us/sample - loss: 39.7178 - acc: 0.6549\n",
      "Epoch 16/20\n",
      "2930/2930 [==============================] - 2s 568us/sample - loss: 33.2294 - acc: 0.6778\n",
      "Epoch 17/20\n",
      "2930/2930 [==============================] - 2s 558us/sample - loss: 6.2927 - acc: 0.4734\n",
      "Epoch 18/20\n",
      "2930/2930 [==============================] - 2s 541us/sample - loss: 1.7531 - acc: 0.5014\n",
      "Epoch 19/20\n",
      "2930/2930 [==============================] - 2s 539us/sample - loss: 1.6432 - acc: 0.5014\n",
      "Epoch 20/20\n",
      "2930/2930 [==============================] - 2s 539us/sample - loss: 1.5684 - acc: 0.5014\n"
     ]
    },
    {
     "data": {
      "text/plain": [
       "<tensorflow.python.keras.callbacks.History at 0x7f22f0481470>"
      ]
     },
     "execution_count": 58,
     "metadata": {},
     "output_type": "execute_result"
    }
   ],
   "source": [
    "model.fit(train_images, train_labels, epochs=20)"
   ]
  },
  {
   "cell_type": "code",
   "execution_count": 21,
   "metadata": {
    "scrolled": true
   },
   "outputs": [
    {
     "name": "stdout",
     "output_type": "stream",
     "text": [
      "732/732 [==============================] - 0s 229us/sample - loss: 166.1225 - acc: 0.7199\n"
     ]
    },
    {
     "data": {
      "text/plain": [
       "[166.12251940451034, 0.7199454]"
      ]
     },
     "execution_count": 21,
     "metadata": {},
     "output_type": "execute_result"
    }
   ],
   "source": [
    "model.evaluate(validation_images, validation_labels)"
   ]
  },
  {
   "cell_type": "code",
   "execution_count": 28,
   "metadata": {
    "scrolled": true
   },
   "outputs": [
    {
     "name": "stderr",
     "output_type": "stream",
     "text": [
      "1928it [00:01, 1349.36it/s]\n"
     ]
    }
   ],
   "source": [
    "# test\n",
    "images = np.empty(shape=(len(test_data.index), im_shape[0], im_shape[1], 3))\n",
    "for i, row in tqdm(test_data.iterrows()):\n",
    "    im = load_image(test_dir + str(row.id_code) + \".png\", (im_shape[0], im_shape[1]))\n",
    "    images[i] = np.array(im)\n",
    "    if dump_preprocessed:\n",
    "        im.save(prep_test_dir + str(row.id_code) + \".png\")\n",
    "    \n",
    "test_images = images\n",
    "# Time:\n",
    "# Original + Dumping: 1 min\n",
    "# Preprocessed: 1 s"
   ]
  },
  {
   "cell_type": "code",
   "execution_count": 65,
   "metadata": {},
   "outputs": [],
   "source": [
    "predictions = model.predict(test_images)"
   ]
  },
  {
   "cell_type": "code",
   "execution_count": 107,
   "metadata": {},
   "outputs": [],
   "source": [
    "# create submission\n",
    "test_data.reset_index()\n",
    "with open(\"submissions.csv\", \"w\") as f:\n",
    "    f.write(\"id_code, diagnosis\\n\")\n",
    "    for i in range(len(predictions)):\n",
    "        f.write(test_data.id_code[i] + \",\" + str(np.argmax(predictions[i])) + \"\\n\")"
   ]
  },
  {
   "cell_type": "code",
   "execution_count": 103,
   "metadata": {},
   "outputs": [
    {
     "data": {
      "text/plain": [
       "'0005cfc8afb6'"
      ]
     },
     "execution_count": 103,
     "metadata": {},
     "output_type": "execute_result"
    }
   ],
   "source": [
    "test_data.id_code[0]"
   ]
  },
  {
   "cell_type": "code",
   "execution_count": 23,
   "metadata": {},
   "outputs": [],
   "source": [
    "model.save(\"basic.h5\")"
   ]
  },
  {
   "cell_type": "code",
   "execution_count": null,
   "metadata": {},
   "outputs": [],
   "source": [
    "newmodel = tf"
   ]
  }
 ],
 "metadata": {
  "kernelspec": {
   "display_name": "blindness-detection",
   "language": "python",
   "name": "blindness-detection"
  },
  "language_info": {
   "codemirror_mode": {
    "name": "ipython",
    "version": 3
   },
   "file_extension": ".py",
   "mimetype": "text/x-python",
   "name": "python",
   "nbconvert_exporter": "python",
   "pygments_lexer": "ipython3",
   "version": "3.7.3"
  }
 },
 "nbformat": 4,
 "nbformat_minor": 2
}
